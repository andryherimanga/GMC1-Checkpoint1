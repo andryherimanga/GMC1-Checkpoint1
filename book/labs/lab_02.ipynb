{
  "cells": [
    {
      "cell_type": "markdown",
      "id": "0",
      "metadata": {
        "id": "0"
      },
      "source": [
        "# Lab 2\n",
        "\n",
        "[![Open In Colab](https://colab.research.google.com/assets/colab-badge.svg)](https://colab.research.google.com/github/giswqs/geog-312/blob/main/book/labs/lab_02.ipynb)\n",
        "\n",
        "This notebook contains exercises based on the lectures on [**String Operations**](https://geog-312.gishub.org/book/python/04_string_operations.html) and [**Looping and Control Statements**](https://geog-312.gishub.org/book/python/05_looping.html). These exercises will help reinforce the concepts of string manipulation, loops, and conditionals in geospatial contexts."
      ]
    },
    {
      "cell_type": "markdown",
      "id": "1",
      "metadata": {
        "id": "1"
      },
      "source": [
        "## Exercise 1: Manipulating Geographic Location Strings\n",
        "\n",
        "- Create a string that represents the name of a geographic feature (e.g., `\"Amazon River\"`).\n",
        "- Convert the string to lowercase and then to uppercase.\n",
        "- Concatenate the string with the name of the country (e.g., `\"Brazil\"`) to create a full location name.\n",
        "- Repeat the string three times, separating each repetition with a dash (`-`)."
      ]
    },
    {
      "cell_type": "code",
      "execution_count": 1,
      "id": "2",
      "metadata": {
        "id": "2"
      },
      "outputs": [],
      "source": [
        "feature = \"Amazon River\""
      ]
    },
    {
      "cell_type": "code",
      "source": [
        "feature_lower = feature.lower()\n",
        "print(feature_lower)"
      ],
      "metadata": {
        "id": "iqz78v1LWRBK",
        "outputId": "2fb893e8-4e12-40e1-ffca-7443f27b0dc3",
        "colab": {
          "base_uri": "https://localhost:8080/"
        }
      },
      "id": "iqz78v1LWRBK",
      "execution_count": 3,
      "outputs": [
        {
          "output_type": "stream",
          "name": "stdout",
          "text": [
            "amazon river\n"
          ]
        }
      ]
    },
    {
      "cell_type": "code",
      "source": [
        "full_location_name = feature + \", Brazil\"\n",
        "print(full_location_name)"
      ],
      "metadata": {
        "id": "XP2qfreiWcJu",
        "outputId": "486fd9dd-8605-4168-f8ba-866e3b87d476",
        "colab": {
          "base_uri": "https://localhost:8080/"
        }
      },
      "id": "XP2qfreiWcJu",
      "execution_count": 7,
      "outputs": [
        {
          "output_type": "stream",
          "name": "stdout",
          "text": [
            "Amazon River, Brazil\n"
          ]
        }
      ]
    },
    {
      "cell_type": "code",
      "source": [
        "print((feature+\" - \")*2+feature)"
      ],
      "metadata": {
        "id": "xlB2wQ83WwOh",
        "outputId": "00a415b4-f1c8-40aa-8ea3-c8eb9f3e222c",
        "colab": {
          "base_uri": "https://localhost:8080/"
        }
      },
      "id": "xlB2wQ83WwOh",
      "execution_count": 8,
      "outputs": [
        {
          "output_type": "stream",
          "name": "stdout",
          "text": [
            "Amazon River - Amazon River - Amazon River\n"
          ]
        }
      ]
    },
    {
      "cell_type": "markdown",
      "id": "3",
      "metadata": {
        "id": "3"
      },
      "source": [
        "## Exercise 2: Extracting and Formatting Coordinates\n",
        "\n",
        "- Given a string with the format `\"latitude, longitude\"` (e.g., `\"40.7128N, 74.0060W\"`), extract the numeric values of latitude and longitude.\n",
        "- Convert these values to floats and remove the directional indicators (`N`, `S`, `E`, `W`).\n",
        "- Format the coordinates into a `POINT` WKT string (e.g., `\"POINT(-74.0060 40.7128)\"`)."
      ]
    },
    {
      "cell_type": "code",
      "execution_count": 9,
      "id": "4",
      "metadata": {
        "id": "4"
      },
      "outputs": [],
      "source": [
        "coordinates_string = \"40.7128N, 74.0060W\""
      ]
    },
    {
      "cell_type": "code",
      "source": [
        "lat_string, lon_string = coordinates_string.split(\", \")\n",
        "print(lat_string)\n",
        "print(lon_string)"
      ],
      "metadata": {
        "id": "bIfgWCjXcFrn",
        "outputId": "018a135e-7a48-46ca-abb2-347f784bd508",
        "colab": {
          "base_uri": "https://localhost:8080/"
        }
      },
      "id": "bIfgWCjXcFrn",
      "execution_count": 19,
      "outputs": [
        {
          "output_type": "stream",
          "name": "stdout",
          "text": [
            "40.7128N\n",
            "74.0060W\n"
          ]
        }
      ]
    },
    {
      "cell_type": "code",
      "source": [
        "latitude = float(lat_string[:-1])\n",
        "longitude = float(lon_string[:-1])\n",
        "print(latitude)\n",
        "print(longitude)"
      ],
      "metadata": {
        "id": "qgPjn_pTdH-L",
        "outputId": "2aa45b63-8398-4a45-c40a-de30a9df8285",
        "colab": {
          "base_uri": "https://localhost:8080/"
        }
      },
      "id": "qgPjn_pTdH-L",
      "execution_count": 20,
      "outputs": [
        {
          "output_type": "stream",
          "name": "stdout",
          "text": [
            "40.7128\n",
            "74.006\n"
          ]
        }
      ]
    },
    {
      "cell_type": "code",
      "source": [
        "wkt_point = f\"POINT({latitude},{longitude})\"\n",
        "print(wkt_point)"
      ],
      "metadata": {
        "id": "5RU9FZgKdd--",
        "outputId": "5baff553-9fe3-4157-8f11-85ac32ee4957",
        "colab": {
          "base_uri": "https://localhost:8080/"
        }
      },
      "id": "5RU9FZgKdd--",
      "execution_count": 21,
      "outputs": [
        {
          "output_type": "stream",
          "name": "stdout",
          "text": [
            "POINT(40.7128,74.006)\n"
          ]
        }
      ]
    },
    {
      "cell_type": "markdown",
      "id": "5",
      "metadata": {
        "id": "5"
      },
      "source": [
        "## Exercise 3: Building Dynamic SQL Queries\n",
        "\n",
        "- Given a table name and a condition, dynamically build an SQL query string.\n",
        "- Example: If `table_name = \"cities\"` and `condition = \"population > 1000000\"`, the query should be `\"SELECT * FROM cities WHERE population > 1000000;\"`.\n",
        "- Add additional conditions dynamically, like `AND` clauses."
      ]
    },
    {
      "cell_type": "code",
      "execution_count": 14,
      "id": "6",
      "metadata": {
        "id": "6",
        "outputId": "3562c59e-3e96-48a2-df22-0156114b726d",
        "colab": {
          "base_uri": "https://localhost:8080/"
        }
      },
      "outputs": [
        {
          "output_type": "stream",
          "name": "stdout",
          "text": [
            "SELECT from cities WHERE population > 1000000\n"
          ]
        }
      ],
      "source": [
        "table_name = \"cities\"\n",
        "condition = \"population > 1000000\"\n",
        "sql_query = f\"SELECT from {table_name} WHERE {condition}\"\n",
        "print(sql_query)"
      ]
    },
    {
      "cell_type": "code",
      "source": [
        "condition_1 = \"population < 5000000\"\n",
        "sql_query_1 = f\"SELECT from {table_name} WHERE {condition} AND {condition_1}\"\n",
        "print(sql_query_1)"
      ],
      "metadata": {
        "id": "0BPg-pj5fGhO",
        "outputId": "31876184-65b0-4fae-c7df-aada6f8703bd",
        "colab": {
          "base_uri": "https://localhost:8080/"
        }
      },
      "id": "0BPg-pj5fGhO",
      "execution_count": 15,
      "outputs": [
        {
          "output_type": "stream",
          "name": "stdout",
          "text": [
            "SELECT from cities WHERE population > 1000000 AND population < 5000000\n"
          ]
        }
      ]
    },
    {
      "cell_type": "markdown",
      "id": "7",
      "metadata": {
        "id": "7"
      },
      "source": [
        "## Exercise 4: String Normalization and Cleaning\n",
        "\n",
        "- Given a list of city names with inconsistent formatting (e.g., `[\" new york \", \"Los ANGELES\", \"   CHICAGO\"]`), normalize the names by:\n",
        "  - Stripping any leading or trailing whitespace.\n",
        "  - Converting them to title case (e.g., `\"New York\"`, `\"Los Angeles\"`, `\"Chicago\"`).\n",
        "- Ensure that the output is a clean list of city names."
      ]
    },
    {
      "cell_type": "code",
      "execution_count": 16,
      "id": "8",
      "metadata": {
        "id": "8"
      },
      "outputs": [],
      "source": [
        "city_names = [\" new york \", \"Los ANGELES\", \" CHICAGO\"]"
      ]
    },
    {
      "cell_type": "code",
      "source": [
        "city_names_clean = [city.strip().title() for city in city_names]\n",
        "print(city_names_clean)"
      ],
      "metadata": {
        "id": "m7OLt6RxiPWh",
        "outputId": "57508f27-b836-4f42-9dd7-21e225476a23",
        "colab": {
          "base_uri": "https://localhost:8080/"
        }
      },
      "id": "m7OLt6RxiPWh",
      "execution_count": 17,
      "outputs": [
        {
          "output_type": "stream",
          "name": "stdout",
          "text": [
            "['New York', 'Los Angeles', 'Chicago']\n"
          ]
        }
      ]
    },
    {
      "cell_type": "markdown",
      "id": "9",
      "metadata": {
        "id": "9"
      },
      "source": [
        "## Exercise 5: Parsing and Extracting Address Information\n",
        "\n",
        "- Given a string in the format `\"Street, City, Country\"` (e.g., `\"123 Main St, Springfield, USA\"`), write a function that parses the string into a dictionary with keys `street`, `city`, and `country`.\n",
        "- The function should return a dictionary like `{\"street\": \"123 Main St\", \"city\": \"Springfield\", \"country\": \"USA\"}`."
      ]
    },
    {
      "cell_type": "code",
      "execution_count": 18,
      "id": "10",
      "metadata": {
        "id": "10"
      },
      "outputs": [],
      "source": [
        "address = \"123 Main St, Springfield, USA\""
      ]
    },
    {
      "cell_type": "code",
      "source": [
        "my_dict = {}\n",
        "def extract(address):\n",
        "    street,city,country = address.split(\", \")\n",
        "    items = [(\"street\",street),(\"city\",city),(\"country\",country)]\n",
        "    for item in items:\n",
        "        key = item[0]\n",
        "        value = item[1]\n",
        "        my_dict[key] = value\n",
        "    print(my_dict)\n",
        "\n"
      ],
      "metadata": {
        "id": "c4BaJUUWj3q9"
      },
      "id": "c4BaJUUWj3q9",
      "execution_count": 23,
      "outputs": []
    },
    {
      "cell_type": "code",
      "source": [
        "extract(\"123 Main St, Springfield, USA\")"
      ],
      "metadata": {
        "id": "gmbyy7yQr8R2",
        "outputId": "eea66f36-a197-4a1d-e724-2bad2f4ed29c",
        "colab": {
          "base_uri": "https://localhost:8080/"
        }
      },
      "id": "gmbyy7yQr8R2",
      "execution_count": 24,
      "outputs": [
        {
          "output_type": "stream",
          "name": "stdout",
          "text": [
            "{'street': '123 Main St', 'city': 'Springfield', 'country': 'USA'}\n"
          ]
        }
      ]
    },
    {
      "cell_type": "markdown",
      "id": "11",
      "metadata": {
        "id": "11"
      },
      "source": [
        "## Exercise 6: Using For Loops to Process Coordinate Lists\n",
        "\n",
        "- Create a list of tuples representing coordinates (latitude, longitude).\n",
        "- Write a `for` loop that prints each coordinate and indicates whether it is in the Northern or Southern Hemisphere based on the latitude."
      ]
    },
    {
      "cell_type": "code",
      "execution_count": null,
      "id": "12",
      "metadata": {
        "id": "12"
      },
      "outputs": [],
      "source": []
    },
    {
      "cell_type": "markdown",
      "id": "13",
      "metadata": {
        "id": "13"
      },
      "source": [
        "## Exercise 7: While Loops for Iterative Processing\n",
        "\n",
        "- Create a list of coordinates (latitude, longitude).\n",
        "- Write a `while` loop that continues to print each coordinate until it encounters a coordinate with a negative latitude.\n",
        "- Stop the loop once this condition is met."
      ]
    },
    {
      "cell_type": "code",
      "execution_count": null,
      "id": "14",
      "metadata": {
        "id": "14"
      },
      "outputs": [],
      "source": []
    },
    {
      "cell_type": "markdown",
      "id": "15",
      "metadata": {
        "id": "15"
      },
      "source": [
        "## Exercise 8: Conditional Logic in Loops\n",
        "\n",
        "- Create a list of coordinates and use a `for` loop to iterate over them.\n",
        "- Use an `if-elif-else` statement inside the loop to classify each coordinate based on its longitude:\n",
        "  - Print `\"Eastern Hemisphere\"` if the longitude is greater than 0.\n",
        "  - Print `\"Western Hemisphere\"` if the longitude is less than 0."
      ]
    },
    {
      "cell_type": "code",
      "execution_count": null,
      "id": "16",
      "metadata": {
        "id": "16"
      },
      "outputs": [],
      "source": []
    },
    {
      "cell_type": "markdown",
      "id": "17",
      "metadata": {
        "id": "17"
      },
      "source": [
        "## Exercise 9: Filtering Data with Combined Loops and Conditionals\n",
        "\n",
        "- Given a list of coordinates, filter out and store only those located in the Southern Hemisphere (latitude < 0).\n",
        "- Count the number of coordinates that meet this condition and print the result."
      ]
    },
    {
      "cell_type": "code",
      "execution_count": null,
      "id": "18",
      "metadata": {
        "id": "18"
      },
      "outputs": [],
      "source": []
    },
    {
      "cell_type": "markdown",
      "id": "19",
      "metadata": {
        "id": "19"
      },
      "source": [
        "## Exercise 10: Generating and Analyzing Random Coordinates\n",
        "\n",
        "- Write a program that generates random coordinates (latitude between [-90, 90] degrees and longitude between [-180, 180] degrees).\n",
        "- Use a `while` loop to keep generating coordinates until a pair with both latitude and longitude greater than 50 is generated.\n",
        "- Print each generated coordinate and the final coordinate that meets the condition."
      ]
    },
    {
      "cell_type": "code",
      "execution_count": null,
      "id": "20",
      "metadata": {
        "id": "20"
      },
      "outputs": [],
      "source": []
    }
  ],
  "metadata": {
    "kernelspec": {
      "display_name": "Python 3",
      "language": "python",
      "name": "python3"
    },
    "language_info": {
      "codemirror_mode": {
        "name": "ipython",
        "version": 3
      },
      "file_extension": ".py",
      "mimetype": "text/x-python",
      "name": "python",
      "nbconvert_exporter": "python",
      "pygments_lexer": "ipython3",
      "version": "3.11.8"
    },
    "colab": {
      "provenance": []
    }
  },
  "nbformat": 4,
  "nbformat_minor": 5
}