{
  "cells": [
    {
      "cell_type": "markdown",
      "id": "0",
      "metadata": {
        "id": "0"
      },
      "source": [
        "# Lab 3\n",
        "\n",
        "[![Open In Colab](https://colab.research.google.com/assets/colab-badge.svg)](https://colab.research.google.com/github/giswqs/geog-312/blob/main/book/labs/lab_03.ipynb)\n",
        "\n",
        "This notebook contains exercises based on the lectures on [**Functions and Classes**](https://geog-312.gishub.org/book/python/06_functions_classes.html) and [**Files and Exception Handling**](https://geog-312.gishub.org/book/python/07_files.html). These exercises will help reinforce the concepts of functions, classes, file handling, and exception management in geospatial contexts."
      ]
    },
    {
      "cell_type": "markdown",
      "id": "1",
      "metadata": {
        "id": "1"
      },
      "source": [
        "## Exercise 1: Calculating Distances with Functions\n",
        "\n",
        "- Define a function `calculate_distance` that takes two geographic coordinates (latitude and longitude) and returns the distance between them using the Haversine formula.\n",
        "- Use this function to calculate the distance between multiple pairs of coordinates."
      ]
    },
    {
      "cell_type": "code",
      "source": [
        "from math import radians, sin, cos, sqrt, atan2\n",
        "def calculate_distance(lat1, lon1, lat2, lon2):\n",
        "    R = 6371.0\n",
        "    dlat = radians(lat2 - lat1)\n",
        "    dlon = radians(lon2 - lon1)\n",
        "    a = sin(dlat / 2)**2 + cos(radians(lat1)) * cos(radians(lat2)) * sin(dlon / 2)**2\n",
        "    c = 2 * atan2(sqrt(a), sqrt(1 - a))\n",
        "    distance = R * c\n",
        "    return distance\n",
        "distance = calculate_distance(48.8566, 2.3522, 40.7128, -74.0060)\n",
        "print(f\"Distance: {distance:.2f} km\")"
      ],
      "metadata": {
        "colab": {
          "base_uri": "https://localhost:8080/"
        },
        "id": "ITSRqJnm1sLk",
        "outputId": "f34474e5-0ffa-47ce-89b4-12487f1b71e0"
      },
      "id": "ITSRqJnm1sLk",
      "execution_count": 1,
      "outputs": [
        {
          "output_type": "stream",
          "name": "stdout",
          "text": [
            "Distance: 5837.24 km\n"
          ]
        }
      ]
    },
    {
      "cell_type": "code",
      "source": [
        "origin = (0, 0)\n",
        "points = [( 14.6708, -17.0728), (-18.7964,  47.4761), (0.4583,9.4122), (49.2827, -123.1207)]\n",
        "for coordinates in points:\n",
        "    result = calculate_distance(0, 0, *coordinates)\n",
        "    print(f\"The distance from the Equator to {coordinates} is : {result:.2f} km\")"
      ],
      "metadata": {
        "colab": {
          "base_uri": "https://localhost:8080/"
        },
        "id": "GUWrxZD91w2V",
        "outputId": "0321b5b2-d6a9-4475-9f8f-e5161f8b3f5f"
      },
      "id": "GUWrxZD91w2V",
      "execution_count": 3,
      "outputs": [
        {
          "output_type": "stream",
          "name": "stdout",
          "text": [
            "The distance from the Equator to (14.6708, -17.0728) is : 2487.08 km\n",
            "The distance from the Equator to (-18.7964, 47.4761) is : 5584.12 km\n",
            "The distance from the Equator to (0.4583, 9.4122) is : 1047.82 km\n",
            "The distance from the Equator to (49.2827, -123.1207) is : 12329.45 km\n"
          ]
        }
      ]
    },
    {
      "cell_type": "markdown",
      "id": "3",
      "metadata": {
        "id": "3"
      },
      "source": [
        "## Exercise 2: Batch Distance Calculation\n",
        "\n",
        "- Create a function `batch_distance_calculation` that accepts a list of coordinate pairs and returns a list of distances between consecutive pairs.\n",
        "- Test the function with a list of coordinates representing several cities."
      ]
    },
    {
      "cell_type": "code",
      "execution_count": 2,
      "id": "4",
      "metadata": {
        "id": "4"
      },
      "outputs": [],
      "source": []
    },
    {
      "cell_type": "markdown",
      "id": "5",
      "metadata": {
        "id": "5"
      },
      "source": [
        "## Exercise 3: Creating and Using a Point Class\n",
        "\n",
        "- Define a `Point` class to represent a geographic point with attributes `latitude`, `longitude`, and `name`.\n",
        "- Add a method `distance_to` that calculates the distance from one point to another.\n",
        "- Instantiate several `Point` objects and calculate the distance between them."
      ]
    },
    {
      "cell_type": "code",
      "execution_count": null,
      "id": "6",
      "metadata": {
        "id": "6"
      },
      "outputs": [],
      "source": []
    },
    {
      "cell_type": "markdown",
      "id": "7",
      "metadata": {
        "id": "7"
      },
      "source": [
        "## Exercise 4: Reading and Writing Files\n",
        "\n",
        "- Write a function `read_coordinates` that reads a file containing a list of coordinates (latitude, longitude) and returns them as a list of tuples.\n",
        "- Write another function `write_coordinates` that takes a list of coordinates and writes them to a new file.\n",
        "- Ensure that both functions handle exceptions, such as missing files or improperly formatted data."
      ]
    },
    {
      "cell_type": "code",
      "execution_count": null,
      "id": "8",
      "metadata": {
        "id": "8"
      },
      "outputs": [],
      "source": []
    },
    {
      "cell_type": "markdown",
      "id": "9",
      "metadata": {
        "id": "9"
      },
      "source": [
        "## Exercise 5: Processing Coordinates from a File\n",
        "\n",
        "- Create a function that reads coordinates from a file and uses the `Point` class to create `Point` objects.\n",
        "- Calculate the distance between each consecutive pair of points and write the results to a new file.\n",
        "- Ensure the function handles file-related exceptions and gracefully handles improperly formatted lines."
      ]
    },
    {
      "cell_type": "code",
      "execution_count": null,
      "id": "10",
      "metadata": {
        "id": "10"
      },
      "outputs": [],
      "source": [
        "# Create a sample coordinates.txt file\n",
        "sample_data = \"\"\"35.6895,139.6917\n",
        "34.0522,-118.2437\n",
        "51.5074,-0.1278\n",
        "-33.8688,151.2093\n",
        "48.8566,2.3522\"\"\"\n",
        "\n",
        "output_file = \"coordinates.txt\"\n",
        "\n",
        "try:\n",
        "    with open(output_file, \"w\") as file:\n",
        "        file.write(sample_data)\n",
        "    print(f\"Sample file '{output_file}' has been created successfully.\")\n",
        "except Exception as e:\n",
        "    print(f\"An error occurred while creating the file: {e}\")"
      ]
    },
    {
      "cell_type": "code",
      "execution_count": null,
      "id": "11",
      "metadata": {
        "id": "11"
      },
      "outputs": [],
      "source": []
    },
    {
      "cell_type": "markdown",
      "id": "12",
      "metadata": {
        "id": "12"
      },
      "source": [
        "## Exercise 6: Exception Handling in Data Processing\n",
        "\n",
        "- Modify the `batch_distance_calculation` function to handle exceptions that might occur during the calculation, such as invalid coordinates.\n",
        "- Ensure the function skips invalid data and continues processing the remaining data."
      ]
    },
    {
      "cell_type": "code",
      "execution_count": null,
      "id": "13",
      "metadata": {
        "id": "13"
      },
      "outputs": [],
      "source": []
    }
  ],
  "metadata": {
    "kernelspec": {
      "display_name": "Python 3",
      "language": "python",
      "name": "python3"
    },
    "language_info": {
      "codemirror_mode": {
        "name": "ipython",
        "version": 3
      },
      "file_extension": ".py",
      "mimetype": "text/x-python",
      "name": "python",
      "nbconvert_exporter": "python",
      "pygments_lexer": "ipython3",
      "version": "3.11.8"
    },
    "colab": {
      "provenance": []
    }
  },
  "nbformat": 4,
  "nbformat_minor": 5
}