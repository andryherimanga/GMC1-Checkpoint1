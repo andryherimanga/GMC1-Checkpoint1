{
  "cells": [
    {
      "cell_type": "markdown",
      "id": "0",
      "metadata": {
        "id": "0"
      },
      "source": [
        "# Lab 1\n",
        "\n",
        "[![Open In Colab](https://colab.research.google.com/assets/colab-badge.svg)](https://colab.research.google.com/github/giswqs/geog-312/blob/main/book/labs/lab_01.ipynb)"
      ]
    },
    {
      "cell_type": "markdown",
      "id": "1",
      "metadata": {
        "id": "1"
      },
      "source": [
        "## Exercise 1: Variable Assignment and Basic Operations\n",
        "\n",
        "Create variables to store the following geospatial data:\n",
        "\n",
        "- The latitude and longitude of New York City: 40.7128, -74.0060.\n",
        "- The population of New York City: 8,336,817.\n",
        "- The area of New York City in square kilometers: 783.8.\n",
        "\n",
        "Perform the following tasks:\n",
        "\n",
        "1. Calculate and print the population density of New York City (population per square kilometer).\n",
        "2. Print the coordinates in the format \"Latitude: [latitude], Longitude: [longitude]\"."
      ]
    },
    {
      "cell_type": "code",
      "execution_count": 1,
      "id": "2",
      "metadata": {
        "id": "2"
      },
      "outputs": [],
      "source": [
        "latitude = 40.7128\n",
        "longitude = -74.0060\n",
        "area = 783.8\n",
        "population = 8336817"
      ]
    },
    {
      "cell_type": "code",
      "source": [
        "density = population/area"
      ],
      "metadata": {
        "id": "bI6G3r120GLa"
      },
      "id": "bI6G3r120GLa",
      "execution_count": 2,
      "outputs": []
    },
    {
      "cell_type": "code",
      "source": [
        "print(density)"
      ],
      "metadata": {
        "colab": {
          "base_uri": "https://localhost:8080/"
        },
        "id": "jHuAFXK40Tup",
        "outputId": "955eac42-ccc8-4708-c4fa-35e64996a27e"
      },
      "id": "jHuAFXK40Tup",
      "execution_count": 3,
      "outputs": [
        {
          "output_type": "stream",
          "name": "stdout",
          "text": [
            "10636.408522582293\n"
          ]
        }
      ]
    },
    {
      "cell_type": "code",
      "source": [
        "print(f\"Latitude: {latitude}, Longitude: {longitude}\")"
      ],
      "metadata": {
        "colab": {
          "base_uri": "https://localhost:8080/"
        },
        "id": "P3mw-BCE0XbN",
        "outputId": "921742ae-aed4-4c2f-bbf7-de4c3eebe067"
      },
      "id": "P3mw-BCE0XbN",
      "execution_count": 4,
      "outputs": [
        {
          "output_type": "stream",
          "name": "stdout",
          "text": [
            "Latitude: 40.7128, Longitude: -74.006\n"
          ]
        }
      ]
    },
    {
      "cell_type": "markdown",
      "id": "3",
      "metadata": {
        "id": "3"
      },
      "source": [
        "## Exercise 2: Working with Strings\n",
        "\n",
        "Create a string variable to store the name of a city, such as \"San Francisco\". Perform the following operations:\n",
        "\n",
        "1. Convert the string to lowercase and print the result.\n",
        "2. Convert the string to uppercase and print the result.\n",
        "3. Replace \"San\" with \"Los\" in the city name and print the new string."
      ]
    },
    {
      "cell_type": "code",
      "execution_count": 5,
      "id": "4",
      "metadata": {
        "id": "4"
      },
      "outputs": [],
      "source": [
        "city = \"San Francisco\""
      ]
    },
    {
      "cell_type": "code",
      "source": [
        "city_lower = city.lower()"
      ],
      "metadata": {
        "id": "R-hb52vU1Cd_"
      },
      "id": "R-hb52vU1Cd_",
      "execution_count": 9,
      "outputs": []
    },
    {
      "cell_type": "code",
      "source": [
        "print(city_lower)"
      ],
      "metadata": {
        "colab": {
          "base_uri": "https://localhost:8080/"
        },
        "id": "BTBJaxdA1Yyo",
        "outputId": "f347ea03-3e62-4951-db8a-ec0d36a38f3e"
      },
      "id": "BTBJaxdA1Yyo",
      "execution_count": 10,
      "outputs": [
        {
          "output_type": "stream",
          "name": "stdout",
          "text": [
            "san francisco\n"
          ]
        }
      ]
    },
    {
      "cell_type": "code",
      "source": [
        "city_upper = city.upper()"
      ],
      "metadata": {
        "id": "ccNvRlbz1lbW"
      },
      "id": "ccNvRlbz1lbW",
      "execution_count": 11,
      "outputs": []
    },
    {
      "cell_type": "code",
      "source": [
        "print(city_upper)"
      ],
      "metadata": {
        "colab": {
          "base_uri": "https://localhost:8080/"
        },
        "id": "5hJy2zYI1qIC",
        "outputId": "e4d73efc-e0f5-4cc0-d146-6a26a3e3c69f"
      },
      "id": "5hJy2zYI1qIC",
      "execution_count": 12,
      "outputs": [
        {
          "output_type": "stream",
          "name": "stdout",
          "text": [
            "SAN FRANCISCO\n"
          ]
        }
      ]
    },
    {
      "cell_type": "markdown",
      "id": "5",
      "metadata": {
        "id": "5"
      },
      "source": [
        "## Exercise 3: Using Lists\n",
        "\n",
        "Create a list of tuples, where each tuple contains the name of a city and its corresponding latitude and longitude:\n",
        "\n",
        "- New York City: (40.7128, -74.0060)\n",
        "- Los Angeles: (34.0522, -118.2437)\n",
        "- Chicago: (41.8781, -87.6298)\n",
        "\n",
        "Perform the following tasks:\n",
        "\n",
        "1. Add a new city (e.g., Miami: (25.7617, -80.1918)) to the list.\n",
        "2. Print the entire list of cities.\n",
        "3. Slice the list to print only the first two cities."
      ]
    },
    {
      "cell_type": "code",
      "execution_count": 19,
      "id": "6",
      "metadata": {
        "id": "6"
      },
      "outputs": [],
      "source": [
        "city = [(\"New York City\",(40.7128, -74.0060)),(\"Los Angeles\",(34.0522, -118.2437)),(\"Chicago\",(41.8781, -87.6298))]"
      ]
    },
    {
      "cell_type": "code",
      "source": [
        "city.append((\"Miami\",(25.7617, -80.1918)))"
      ],
      "metadata": {
        "id": "WDmmqYZY2_oy"
      },
      "id": "WDmmqYZY2_oy",
      "execution_count": 20,
      "outputs": []
    },
    {
      "cell_type": "code",
      "source": [
        "print(city)"
      ],
      "metadata": {
        "colab": {
          "base_uri": "https://localhost:8080/"
        },
        "id": "fmuiZ14_3KvY",
        "outputId": "10c5f32a-a52a-49e6-cf40-65c7efb730ad"
      },
      "id": "fmuiZ14_3KvY",
      "execution_count": 21,
      "outputs": [
        {
          "output_type": "stream",
          "name": "stdout",
          "text": [
            "[('New York City', (40.7128, -74.006)), ('Los Angeles', (34.0522, -118.2437)), ('Chicago', (41.8781, -87.6298)), ('Miami', (25.7617, -80.1918))]\n"
          ]
        }
      ]
    },
    {
      "cell_type": "code",
      "source": [
        "print(city[0:2])"
      ],
      "metadata": {
        "colab": {
          "base_uri": "https://localhost:8080/"
        },
        "id": "-smy2AYt3Nqx",
        "outputId": "a5a8a439-db70-4707-ad55-761023fbb97b"
      },
      "id": "-smy2AYt3Nqx",
      "execution_count": 22,
      "outputs": [
        {
          "output_type": "stream",
          "name": "stdout",
          "text": [
            "[('New York City', (40.7128, -74.006)), ('Los Angeles', (34.0522, -118.2437))]\n"
          ]
        }
      ]
    },
    {
      "cell_type": "markdown",
      "id": "7",
      "metadata": {
        "id": "7"
      },
      "source": [
        "## Exercise 4: Using Tuples\n",
        "\n",
        "Create a tuple to store the coordinates (latitude, longitude) of the Eiffel Tower: (48.8584, 2.2945). Perform the following tasks:\n",
        "\n",
        "1. Access and print the latitude and longitude values from the tuple.\n",
        "2. Try to change the latitude value to 48.8585. What happens? Explain why."
      ]
    },
    {
      "cell_type": "code",
      "execution_count": 3,
      "id": "8",
      "metadata": {
        "id": "8"
      },
      "outputs": [],
      "source": [
        "coordinates =  (48.8584, 2.2945)"
      ]
    },
    {
      "cell_type": "code",
      "source": [
        "coordinates[0] =  48.8585"
      ],
      "metadata": {
        "colab": {
          "base_uri": "https://localhost:8080/",
          "height": 146
        },
        "id": "c8x_q9Gkhe1y",
        "outputId": "7d1a9b01-7229-4ae0-d816-0ceb39ff70e4"
      },
      "id": "c8x_q9Gkhe1y",
      "execution_count": 5,
      "outputs": [
        {
          "output_type": "error",
          "ename": "TypeError",
          "evalue": "'tuple' object does not support item assignment",
          "traceback": [
            "\u001b[0;31m---------------------------------------------------------------------------\u001b[0m",
            "\u001b[0;31mTypeError\u001b[0m                                 Traceback (most recent call last)",
            "\u001b[0;32m<ipython-input-5-03eedbf0663e>\u001b[0m in \u001b[0;36m<cell line: 1>\u001b[0;34m()\u001b[0m\n\u001b[0;32m----> 1\u001b[0;31m \u001b[0mcoordinates\u001b[0m\u001b[0;34m[\u001b[0m\u001b[0;36m0\u001b[0m\u001b[0;34m]\u001b[0m \u001b[0;34m=\u001b[0m  \u001b[0;36m48.8585\u001b[0m\u001b[0;34m\u001b[0m\u001b[0;34m\u001b[0m\u001b[0m\n\u001b[0m",
            "\u001b[0;31mTypeError\u001b[0m: 'tuple' object does not support item assignment"
          ]
        }
      ]
    },
    {
      "cell_type": "markdown",
      "source": [
        "TypeError has been generated bacause a tuple is immutable, a value change is not allowed."
      ],
      "metadata": {
        "id": "J5RNFF75i_5V"
      },
      "id": "J5RNFF75i_5V"
    },
    {
      "cell_type": "markdown",
      "id": "9",
      "metadata": {
        "id": "9"
      },
      "source": [
        "## Exercise 5: Working with Sets\n",
        "\n",
        "Create a set of countries you have visited, such as {\"USA\", \"France\", \"Germany\"}. Perform the following tasks:\n",
        "\n",
        "1. Add a new country to the set.\n",
        "2. Try to add the same country again. What happens?\n",
        "3. Print the updated set."
      ]
    },
    {
      "cell_type": "code",
      "execution_count": 14,
      "id": "10",
      "metadata": {
        "id": "10"
      },
      "outputs": [],
      "source": [
        "countries =[\"USA\", \"France\", \"Germany\"]\n",
        "countries = set(countries)"
      ]
    },
    {
      "cell_type": "code",
      "source": [
        "countries.add(\"Italy\")"
      ],
      "metadata": {
        "id": "D7gMiy06w4dC"
      },
      "id": "D7gMiy06w4dC",
      "execution_count": 16,
      "outputs": []
    },
    {
      "cell_type": "code",
      "source": [
        "countries.add(\"Netherland\")"
      ],
      "metadata": {
        "id": "PsippDjbw9bo"
      },
      "id": "PsippDjbw9bo",
      "execution_count": 17,
      "outputs": []
    },
    {
      "cell_type": "code",
      "source": [
        "print(countries)"
      ],
      "metadata": {
        "id": "nkN71O-Uwg4T",
        "outputId": "f4a19056-3c61-4d17-cf5d-65d39d64cabe",
        "colab": {
          "base_uri": "https://localhost:8080/"
        }
      },
      "id": "nkN71O-Uwg4T",
      "execution_count": 18,
      "outputs": [
        {
          "output_type": "stream",
          "name": "stdout",
          "text": [
            "{'USA', 'France', 'Germany', 'Netherland', 'Italy'}\n"
          ]
        }
      ]
    },
    {
      "cell_type": "markdown",
      "id": "11",
      "metadata": {
        "id": "11"
      },
      "source": [
        "## Exercise 6: Working with Dictionaries\n",
        "\n",
        "Create a dictionary to store information about a specific geospatial feature, such as a river:\n",
        "\n",
        "- Name: \"Amazon River\"\n",
        "- Length: 6400 km\n",
        "- Countries: [\"Brazil\", \"Peru\", \"Colombia\"]\n",
        "\n",
        "Perform the following tasks:\n",
        "\n",
        "1. Add a new key-value pair to the dictionary to store the river's average discharge (e.g., 209,000 m³/s).\n",
        "2. Update the length of the river to 6992 km.\n",
        "3. Print the dictionary."
      ]
    },
    {
      "cell_type": "code",
      "execution_count": 23,
      "id": "12",
      "metadata": {
        "id": "12"
      },
      "outputs": [],
      "source": [
        "river = {\n",
        "          \"Name\":\"Amazone River\",\n",
        "          \"Length\": \"6400 km\",\n",
        "          \"Countries\":[\"Brazil\",\"Peru\",\"Colombia\"]\n",
        "          }"
      ]
    },
    {
      "cell_type": "code",
      "source": [
        "river[\"River average\"] = \"209000 m³/s\"\n"
      ],
      "metadata": {
        "id": "pyyJHYEMyQo4"
      },
      "id": "pyyJHYEMyQo4",
      "execution_count": 25,
      "outputs": []
    },
    {
      "cell_type": "code",
      "source": [
        "river[\"Length\"] = \"6992 km\""
      ],
      "metadata": {
        "id": "Wmk33wUdzK3W"
      },
      "id": "Wmk33wUdzK3W",
      "execution_count": 26,
      "outputs": []
    },
    {
      "cell_type": "code",
      "source": [
        "print(river)"
      ],
      "metadata": {
        "id": "bcd3rvDJzWeZ",
        "outputId": "f677ddb6-994a-45b0-c06c-b32ec75dbc48",
        "colab": {
          "base_uri": "https://localhost:8080/"
        }
      },
      "id": "bcd3rvDJzWeZ",
      "execution_count": 27,
      "outputs": [
        {
          "output_type": "stream",
          "name": "stdout",
          "text": [
            "{'Name': 'Amazone River', 'Length': '6992 km', 'Countries': ['Brazil', 'Peru', 'Colombia'], 'River average': '209000 m³/s'}\n"
          ]
        }
      ]
    },
    {
      "cell_type": "markdown",
      "id": "13",
      "metadata": {
        "id": "13"
      },
      "source": [
        "## Exercise 7: Nested Data Structures\n",
        "\n",
        "Create a dictionary to represent a city that contains the city's name, population, and coordinates (latitude, longitude):\n",
        "\n",
        "- Name: \"Tokyo\"\n",
        "- Population: 13,515,271\n",
        "- Coordinates: (35.6895, 139.6917)\n",
        "\n",
        "Perform the following tasks:\n",
        "\n",
        "1. Access and print the population of the city.\n",
        "2. Access and print the city's latitude.\n",
        "3. Update the population to 14,000,000 and print the updated dictionary."
      ]
    },
    {
      "cell_type": "code",
      "execution_count": 28,
      "id": "14",
      "metadata": {
        "id": "14"
      },
      "outputs": [],
      "source": [
        "city = {\n",
        "    \"Name\": \"Tokyo\",\n",
        "    \"Population\": 13515271,\n",
        "    \"Coordinates\":(35.6895, 139.6917)\n",
        "}"
      ]
    },
    {
      "cell_type": "code",
      "source": [
        "print(city[\"Coordinates\"][0])"
      ],
      "metadata": {
        "id": "8joCIYrtz5LN",
        "outputId": "b20318af-2702-42f9-de10-4ca20744c813",
        "colab": {
          "base_uri": "https://localhost:8080/"
        }
      },
      "id": "8joCIYrtz5LN",
      "execution_count": 29,
      "outputs": [
        {
          "output_type": "stream",
          "name": "stdout",
          "text": [
            "35.6895\n"
          ]
        }
      ]
    },
    {
      "cell_type": "code",
      "source": [
        "city[\"Population\"] = 14000000"
      ],
      "metadata": {
        "id": "mWCeMIOF0P2C"
      },
      "id": "mWCeMIOF0P2C",
      "execution_count": 30,
      "outputs": []
    },
    {
      "cell_type": "code",
      "source": [
        "print(city)"
      ],
      "metadata": {
        "id": "Pgm0lKDa0WAK",
        "outputId": "dc3ed765-200e-4e6c-f2ca-c260ecf53681",
        "colab": {
          "base_uri": "https://localhost:8080/"
        }
      },
      "id": "Pgm0lKDa0WAK",
      "execution_count": 31,
      "outputs": [
        {
          "output_type": "stream",
          "name": "stdout",
          "text": [
            "{'Name': 'Tokyo', 'Population': 14000000, 'Coordinates': (35.6895, 139.6917)}\n"
          ]
        }
      ]
    },
    {
      "cell_type": "markdown",
      "id": "15",
      "metadata": {
        "id": "15"
      },
      "source": [
        "## Exercise 8: List Operations\n",
        "\n",
        "Given the list of cities from Exercise 3, perform the following operations:\n",
        "\n",
        "1. Sort the list of cities alphabetically by name.\n",
        "2. Create a new list that contains only the city names.\n",
        "3. Remove the last city from the original list and print the updated list."
      ]
    },
    {
      "cell_type": "code",
      "execution_count": 33,
      "metadata": {
        "id": "EcPPesL30-hR"
      },
      "outputs": [],
      "source": [
        "city = [(\"New York City\",(40.7128, -74.0060)),(\"Los Angeles\",(34.0522, -118.2437)),(\"Chicago\",(41.8781, -87.6298))]"
      ],
      "id": "EcPPesL30-hR"
    },
    {
      "cell_type": "code",
      "source": [
        "print(sorted(city))"
      ],
      "metadata": {
        "id": "qfv6mqnn2HFw",
        "outputId": "f984521e-35eb-4912-f6db-f54a29be9ce5",
        "colab": {
          "base_uri": "https://localhost:8080/"
        }
      },
      "id": "qfv6mqnn2HFw",
      "execution_count": 39,
      "outputs": [
        {
          "output_type": "stream",
          "name": "stdout",
          "text": [
            "[('Chicago', (41.8781, -87.6298)), ('Los Angeles', (34.0522, -118.2437)), ('New York City', (40.7128, -74.006))]\n"
          ]
        }
      ]
    },
    {
      "cell_type": "code",
      "source": [
        "new_city=[]\n",
        "for c in city:\n",
        "  new_city.append(c[0])\n",
        ""
      ],
      "metadata": {
        "id": "98KZTXu8Bay2"
      },
      "id": "98KZTXu8Bay2",
      "execution_count": 40,
      "outputs": []
    },
    {
      "cell_type": "code",
      "source": [
        "print(new_city)"
      ],
      "metadata": {
        "id": "sLZGpNyRBp6X",
        "outputId": "f78146c9-cefa-4c69-f9e9-36f05723d12d",
        "colab": {
          "base_uri": "https://localhost:8080/"
        }
      },
      "id": "sLZGpNyRBp6X",
      "execution_count": 41,
      "outputs": [
        {
          "output_type": "stream",
          "name": "stdout",
          "text": [
            "['New York City', 'Los Angeles', 'Chicago']\n"
          ]
        }
      ]
    },
    {
      "cell_type": "code",
      "source": [
        "city.pop(-1)"
      ],
      "metadata": {
        "id": "FBd-r17fByiJ",
        "outputId": "1bbc8881-b593-4086-c515-8ae2d1733222",
        "colab": {
          "base_uri": "https://localhost:8080/"
        }
      },
      "id": "FBd-r17fByiJ",
      "execution_count": 42,
      "outputs": [
        {
          "output_type": "execute_result",
          "data": {
            "text/plain": [
              "('Chicago', (41.8781, -87.6298))"
            ]
          },
          "metadata": {},
          "execution_count": 42
        }
      ]
    },
    {
      "cell_type": "code",
      "source": [
        "print(city)"
      ],
      "metadata": {
        "id": "6QTzerBjC4CO",
        "outputId": "f982e6c8-b443-45d8-828e-93e6dec56498",
        "colab": {
          "base_uri": "https://localhost:8080/"
        }
      },
      "id": "6QTzerBjC4CO",
      "execution_count": 43,
      "outputs": [
        {
          "output_type": "stream",
          "name": "stdout",
          "text": [
            "[('New York City', (40.7128, -74.006)), ('Los Angeles', (34.0522, -118.2437))]\n"
          ]
        }
      ]
    },
    {
      "cell_type": "markdown",
      "id": "17",
      "metadata": {
        "id": "17"
      },
      "source": [
        "## Exercise 9: Dictionary Operations\n",
        "\n",
        "Using the dictionary from Exercise 6, perform the following tasks:\n",
        "\n",
        "1. Check if the key \"Length\" exists in the dictionary.\n",
        "2. Print all the keys in the dictionary.\n",
        "3. Print all the values in the dictionary."
      ]
    },
    {
      "cell_type": "code",
      "execution_count": 44,
      "id": "18",
      "metadata": {
        "id": "18"
      },
      "outputs": [],
      "source": [
        "river = {\n",
        "          \"Name\":\"Amazone River\",\n",
        "          \"Length\": \"6400 km\",\n",
        "          \"Countries\":[\"Brazil\",\"Peru\",\"Colombia\"]\n",
        "          }"
      ]
    },
    {
      "cell_type": "code",
      "source": [
        "if \"Length\" in river:\n",
        "  print(\"Length key exists in the dictionary\")\n",
        "else:\n",
        "  print(\"Unknown key in the dictionary\")"
      ],
      "metadata": {
        "id": "ZF1NDOSWDMTR",
        "outputId": "bf72aa47-5648-4f2a-b89e-33576b6d763d",
        "colab": {
          "base_uri": "https://localhost:8080/"
        }
      },
      "id": "ZF1NDOSWDMTR",
      "execution_count": 45,
      "outputs": [
        {
          "output_type": "stream",
          "name": "stdout",
          "text": [
            "Length key exists in the dictionary\n"
          ]
        }
      ]
    },
    {
      "cell_type": "code",
      "source": [
        "print(river.keys())"
      ],
      "metadata": {
        "id": "sJ_u6Z-mFSg2",
        "outputId": "8a15a745-c59b-4fe8-b008-3d7e97753294",
        "colab": {
          "base_uri": "https://localhost:8080/"
        }
      },
      "id": "sJ_u6Z-mFSg2",
      "execution_count": 46,
      "outputs": [
        {
          "output_type": "stream",
          "name": "stdout",
          "text": [
            "dict_keys(['Name', 'Length', 'Countries'])\n"
          ]
        }
      ]
    },
    {
      "cell_type": "code",
      "source": [
        "print(river.values())"
      ],
      "metadata": {
        "id": "uwlqfeaUFzFx",
        "outputId": "421e64f0-61c1-419c-cc6c-16e91387c545",
        "colab": {
          "base_uri": "https://localhost:8080/"
        }
      },
      "id": "uwlqfeaUFzFx",
      "execution_count": 49,
      "outputs": [
        {
          "output_type": "stream",
          "name": "stdout",
          "text": [
            "dict_values(['Amazone River', '6400 km', ['Brazil', 'Peru', 'Colombia']])\n"
          ]
        }
      ]
    },
    {
      "cell_type": "markdown",
      "id": "19",
      "metadata": {
        "id": "19"
      },
      "source": [
        "## Exercise 10: Practical Application\n",
        "\n",
        "Imagine you have a list of tuples, each representing a location with its name, latitude, and longitude:"
      ]
    },
    {
      "cell_type": "code",
      "execution_count": 50,
      "id": "20",
      "metadata": {
        "id": "20"
      },
      "outputs": [],
      "source": [
        "locations = [\n",
        "    (\"Mount Everest\", 27.9881, 86.9250),\n",
        "    (\"K2\", 35.8808, 76.5155),\n",
        "    (\"Kangchenjunga\", 27.7025, 88.1475),\n",
        "]"
      ]
    },
    {
      "cell_type": "markdown",
      "id": "21",
      "metadata": {
        "id": "21"
      },
      "source": [
        "Perform the following tasks:\n",
        "\n",
        "1. Create a new list that contains only the names of the locations.\n",
        "2. Create a dictionary where the keys are location names and the values are tuples of their coordinates.\n",
        "3. Print the latitude of \"K2\" using the dictionary."
      ]
    },
    {
      "cell_type": "code",
      "execution_count": 53,
      "id": "22",
      "metadata": {
        "colab": {
          "base_uri": "https://localhost:8080/"
        },
        "id": "22",
        "outputId": "c812cb7c-521b-4fe5-b17c-cf577e9443ff"
      },
      "outputs": [
        {
          "output_type": "stream",
          "name": "stdout",
          "text": [
            "['Mount Everest', 'K2', 'Kangchenjunga']\n"
          ]
        }
      ],
      "source": [
        "names = []\n",
        "for name in locations:\n",
        "  names.append(name[0])\n",
        "print(names)"
      ]
    },
    {
      "cell_type": "code",
      "source": [
        "mountains = {}\n",
        "for item in locations:\n",
        "  key = item[0]\n",
        "  values = (item[1],item[2])\n",
        "  mountains[key] = values\n",
        "print(mountains)"
      ],
      "metadata": {
        "id": "EUnrLyqQKITl",
        "outputId": "6fd49bda-e330-490c-a9ab-5021829fad4f",
        "colab": {
          "base_uri": "https://localhost:8080/"
        }
      },
      "id": "EUnrLyqQKITl",
      "execution_count": 54,
      "outputs": [
        {
          "output_type": "stream",
          "name": "stdout",
          "text": [
            "{'Mount Everest': (27.9881, 86.925), 'K2': (35.8808, 76.5155), 'Kangchenjunga': (27.7025, 88.1475)}\n"
          ]
        }
      ]
    },
    {
      "cell_type": "code",
      "source": [
        "print(mountains[\"K2\"][0])"
      ],
      "metadata": {
        "id": "yEPZ7qw1KOaD",
        "outputId": "be813fac-a0dd-4cda-f39e-caf801f2060f",
        "colab": {
          "base_uri": "https://localhost:8080/"
        }
      },
      "id": "yEPZ7qw1KOaD",
      "execution_count": 55,
      "outputs": [
        {
          "output_type": "stream",
          "name": "stdout",
          "text": [
            "35.8808\n"
          ]
        }
      ]
    }
  ],
  "metadata": {
    "kernelspec": {
      "display_name": "Python 3",
      "language": "python",
      "name": "python3"
    },
    "language_info": {
      "codemirror_mode": {
        "name": "ipython",
        "version": 3
      },
      "file_extension": ".py",
      "mimetype": "text/x-python",
      "name": "python",
      "nbconvert_exporter": "python",
      "pygments_lexer": "ipython3",
      "version": "3.11.8"
    },
    "colab": {
      "provenance": []
    }
  },
  "nbformat": 4,
  "nbformat_minor": 5
}